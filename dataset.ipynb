{
 "cells": [
  {
   "cell_type": "markdown",
   "metadata": {},
   "source": [
    "# python3.9"
   ]
  },
  {
   "cell_type": "code",
   "execution_count": 2,
   "metadata": {},
   "outputs": [
    {
     "name": "stdout",
     "output_type": "stream",
     "text": [
      "Collecting simple_image_download==0.4\n",
      "  Downloading simple_image_download-0.4-py3-none-any.whl.metadata (2.4 kB)\n",
      "Requirement already satisfied: requests in c:\\users\\haric\\anaconda3\\envs\\aneamia\\lib\\site-packages (from simple_image_download==0.4) (2.32.3)\n",
      "Collecting python-magic-bin==0.4.14 (from simple_image_download==0.4)\n",
      "  Downloading python_magic_bin-0.4.14-py2.py3-none-win_amd64.whl.metadata (710 bytes)\n",
      "Collecting progressbar (from simple_image_download==0.4)\n",
      "  Downloading progressbar-2.5.tar.gz (10 kB)\n",
      "  Preparing metadata (setup.py): started\n",
      "  Preparing metadata (setup.py): finished with status 'done'\n",
      "Requirement already satisfied: charset-normalizer<4,>=2 in c:\\users\\haric\\anaconda3\\envs\\aneamia\\lib\\site-packages (from requests->simple_image_download==0.4) (3.3.2)\n",
      "Requirement already satisfied: idna<4,>=2.5 in c:\\users\\haric\\anaconda3\\envs\\aneamia\\lib\\site-packages (from requests->simple_image_download==0.4) (3.8)\n",
      "Requirement already satisfied: urllib3<3,>=1.21.1 in c:\\users\\haric\\anaconda3\\envs\\aneamia\\lib\\site-packages (from requests->simple_image_download==0.4) (2.2.2)\n",
      "Requirement already satisfied: certifi>=2017.4.17 in c:\\users\\haric\\anaconda3\\envs\\aneamia\\lib\\site-packages (from requests->simple_image_download==0.4) (2024.8.30)\n",
      "Downloading simple_image_download-0.4-py3-none-any.whl (4.9 kB)\n",
      "Downloading python_magic_bin-0.4.14-py2.py3-none-win_amd64.whl (409 kB)\n",
      "Building wheels for collected packages: progressbar\n",
      "  Building wheel for progressbar (setup.py): started\n",
      "  Building wheel for progressbar (setup.py): finished with status 'done'\n",
      "  Created wheel for progressbar: filename=progressbar-2.5-py3-none-any.whl size=12083 sha256=886a017de687999eca1a9cbcb7898ed944050e6181466547cec513c7853d8a92\n",
      "  Stored in directory: c:\\users\\haric\\appdata\\local\\pip\\cache\\wheels\\d7\\d9\\89\\a3f31c76ff6d51dc3b1575628f59afe59e4ceae3f2748cd7ad\n",
      "Successfully built progressbar\n",
      "Installing collected packages: python-magic-bin, progressbar, simple_image_download\n",
      "Successfully installed progressbar-2.5 python-magic-bin-0.4.14 simple_image_download-0.4\n"
     ]
    }
   ],
   "source": [
    "!pip install simple_image_download==0.4 "
   ]
  },
  {
   "cell_type": "code",
   "execution_count": 3,
   "metadata": {},
   "outputs": [],
   "source": [
    "from simple_image_download import simple_image_download as simp"
   ]
  },
  {
   "cell_type": "code",
   "execution_count": 4,
   "metadata": {},
   "outputs": [],
   "source": [
    "response=simp.simple_image_download"
   ]
  },
  {
   "cell_type": "code",
   "execution_count": 8,
   "metadata": {},
   "outputs": [],
   "source": [
    "keyword=['finger nail']"
   ]
  },
  {
   "cell_type": "code",
   "execution_count": 9,
   "metadata": {},
   "outputs": [
    {
     "name": "stderr",
     "output_type": "stream",
     "text": [
      "[========================================================================] 100%\n"
     ]
    }
   ],
   "source": [
    "for words in keyword:\n",
    "    response().download(words,10)\n",
    "    "
   ]
  },
  {
   "cell_type": "code",
   "execution_count": null,
   "metadata": {},
   "outputs": [],
   "source": []
  }
 ],
 "metadata": {
  "kernelspec": {
   "display_name": "aneamia",
   "language": "python",
   "name": "python3"
  },
  "language_info": {
   "codemirror_mode": {
    "name": "ipython",
    "version": 3
   },
   "file_extension": ".py",
   "mimetype": "text/x-python",
   "name": "python",
   "nbconvert_exporter": "python",
   "pygments_lexer": "ipython3",
   "version": "3.9.19"
  }
 },
 "nbformat": 4,
 "nbformat_minor": 2
}
